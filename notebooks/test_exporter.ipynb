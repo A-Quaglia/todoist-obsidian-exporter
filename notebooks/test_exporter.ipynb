{
 "cells": [
  {
   "cell_type": "code",
   "id": "initial_id",
   "metadata": {
    "collapsed": true,
    "ExecuteTime": {
     "end_time": "2025-03-09T01:20:58.474791Z",
     "start_time": "2025-03-09T01:20:57.586480Z"
    }
   },
   "source": [
    "from src.todoist_exporter import TodoistToObsidian\n",
    "\n",
    "todoist_app = TodoistToObsidian()"
   ],
   "outputs": [],
   "execution_count": 1
  },
  {
   "metadata": {
    "ExecuteTime": {
     "end_time": "2025-03-09T01:20:58.490243Z",
     "start_time": "2025-03-09T01:20:58.481679Z"
    }
   },
   "cell_type": "code",
   "source": "todoist_app.projects",
   "id": "ccca7d3ae2e40bd4",
   "outputs": [
    {
     "data": {
      "text/plain": [
       "{'Inbox': Project(id='2294435712', name='Inbox', url='https://app.todoist.com/app/project/6JHcQpWJJgcRmvPG', description='', is_favorite=False),\n",
       " 'Notes': Project(id='2318631312', name='Notes', url='https://app.todoist.com/app/project/6QP5RMm4WVRg38F8', description='', is_favorite=False),\n",
       " 'Get Tech': Project(id='2349465762', name='Get Tech', url='https://app.todoist.com/app/project/6XMCWC5w7CRJWRMM', description='', is_favorite=False),\n",
       " 'RPRT Semanal Refact': Project(id='2349538611', name='RPRT Semanal Refact', url='https://app.todoist.com/app/project/6XMRQ5m8gvJ2RMcM', description='', is_favorite=False),\n",
       " 'Datalake BR': Project(id='2349466696', name='Datalake BR', url='https://app.todoist.com/app/project/6XMCgvjCHRQjfv4j', description='', is_favorite=False),\n",
       " 'Billing LATAM': Project(id='2349466713', name='Billing LATAM', url='https://app.todoist.com/app/project/6XMCh2C2r2VvjJ3x', description='', is_favorite=False),\n",
       " 'Chargeback_detetails_CL': Project(id='2350049560', name='Chargeback_detetails_CL', url='https://app.todoist.com/app/project/6XQX5XMVwF2jFWCf', description='', is_favorite=False),\n",
       " 'PKM': Project(id='2349449389', name='PKM', url='https://app.todoist.com/app/project/6XM8PgVG3WjHvrmG', description='', is_favorite=False),\n",
       " 'Augusto': Project(id='2344619603', name='Augusto', url='https://app.todoist.com/app/project/6WpFMrhW53fr7wMW', description='', is_favorite=False),\n",
       " 'TCC': Project(id='2349721218', name='TCC', url='https://app.todoist.com/app/project/6XP9CJPrg2hjwghV', description='', is_favorite=False),\n",
       " 'Entregar Apto': Project(id='2349464658', name='Entregar Apto', url='https://app.todoist.com/app/project/6XMCJRj67JMX48M6', description='', is_favorite=True),\n",
       " 'FUN': Project(id='2348707749', name='FUN', url='https://app.todoist.com/app/project/6XG65v6fpgMwgmrR', description='', is_favorite=False),\n",
       " 'Compras': Project(id='2348690268', name='Compras', url='https://app.todoist.com/app/project/6XG4hv577Hmfp4w3', description='', is_favorite=False),\n",
       " 'Learning': Project(id='2304056439', name='Learning', url='https://app.todoist.com/app/project/6MV8pJ6jq6pRwjgg', description='', is_favorite=False),\n",
       " 'Python': Project(id='2349467825', name='Python', url='https://app.todoist.com/app/project/6XMCrPgQv265PjqV', description='', is_favorite=False),\n",
       " 'Ultra-aprendizado': Project(id='2336853968', name='Ultra-aprendizado', url='https://app.todoist.com/app/project/6VqJ5XQVVQhGc5Jc', description='', is_favorite=False),\n",
       " '2503Q04_rprt_semanal_improv': Project(id='2350050235', name='2503Q04_rprt_semanal_improv', url='https://app.todoist.com/app/project/6XQX96xMVJXgjF2r', description='', is_favorite=False)}"
      ]
     },
     "execution_count": 2,
     "metadata": {},
     "output_type": "execute_result"
    }
   ],
   "execution_count": 2
  },
  {
   "metadata": {
    "ExecuteTime": {
     "end_time": "2025-03-09T01:20:58.874243Z",
     "start_time": "2025-03-09T01:20:58.651930Z"
    }
   },
   "cell_type": "code",
   "source": [
    "sections = todoist_app.get_project_sections(project_id='2349449389')\n",
    "sections"
   ],
   "id": "169fd2c33dc6553e",
   "outputs": [
    {
     "data": {
      "text/plain": [
       "{'183950338': 'Education',\n",
       " '183950431': 'Vault',\n",
       " '183959614': 'Integrations',\n",
       " '183962656': 'Plugins',\n",
       " '183962638': 'Plugins/maybe'}"
      ]
     },
     "execution_count": 3,
     "metadata": {},
     "output_type": "execute_result"
    }
   ],
   "execution_count": 3
  },
  {
   "metadata": {
    "ExecuteTime": {
     "end_time": "2025-03-09T01:20:59.373461Z",
     "start_time": "2025-03-09T01:20:58.882518Z"
    }
   },
   "cell_type": "code",
   "source": [
    "completed_tasks = todoist_app.get_completed_tasks(project_id='2349449389')\n",
    "completed_tasks"
   ],
   "id": "6cdeac0464cfef6",
   "outputs": [
    {
     "data": {
      "text/plain": [
       "[Task(id='8101176156', content='Set Flash cards system @PKM', project_id='2349449389', section_id=None, parent_id=None, labels=[], is_completed=True, due='', completed_at='2025-02-24T02:02:49.000000Z', priority=None, created_at=None, url=None, sections_dict=None),\n",
       " Task(id='8101125565', content='creat flow to pass todoist done projectgs to Obsidian (log) @PKM', project_id='2349449389', section_id=None, parent_id=None, labels=[], is_completed=True, due='', completed_at='2025-02-24T01:30:39.000000Z', priority=None, created_at=None, url=None, sections_dict=None),\n",
       " Task(id='8100839744', content='[x] Excalidraw', project_id='2349449389', section_id='183962638', parent_id=None, labels=[], is_completed=True, due='', completed_at='2025-02-23T22:37:56.000000Z', priority=None, created_at=None, url=None, sections_dict=None),\n",
       " Task(id='8100839734', content='[x] ExcaliBrain', project_id='2349449389', section_id='183962638', parent_id=None, labels=[], is_completed=True, due='', completed_at='2025-02-23T22:37:56.000000Z', priority=None, created_at=None, url=None, sections_dict=None),\n",
       " Task(id='8100839720', content='[x] File Color', project_id='2349449389', section_id='183962638', parent_id=None, labels=[], is_completed=True, due='', completed_at='2025-02-23T22:37:56.000000Z', priority=None, created_at=None, url=None, sections_dict=None),\n",
       " Task(id='8100839712', content='[x] Tracker', project_id='2349449389', section_id='183962638', parent_id=None, labels=[], is_completed=True, due='', completed_at='2025-02-23T22:37:56.000000Z', priority=None, created_at=None, url=None, sections_dict=None),\n",
       " Task(id='8100839681', content='[x] Periodic notes', project_id='2349449389', section_id='183962638', parent_id=None, labels=[], is_completed=True, due='', completed_at='2025-02-23T22:37:56.000000Z', priority=None, created_at=None, url=None, sections_dict=None),\n",
       " Task(id='8100839672', content='Calendar', project_id='2349449389', section_id='183962638', parent_id=None, labels=[], is_completed=True, due='', completed_at='2025-02-23T22:37:56.000000Z', priority=None, created_at=None, url=None, sections_dict=None),\n",
       " Task(id='8100839661', content='[x] Custom File Explorer sorting', project_id='2349449389', section_id='183962656', parent_id=None, labels=[], is_completed=True, due='', completed_at='2025-02-23T22:37:56.000000Z', priority=None, created_at=None, url=None, sections_dict=None),\n",
       " Task(id='8100839647', content='[x] Editing toolbar', project_id='2349449389', section_id='183962656', parent_id=None, labels=[], is_completed=True, due='', completed_at='2025-02-23T22:37:56.000000Z', priority=None, created_at=None, url=None, sections_dict=None),\n",
       " Task(id='8100839637', content='[x] QuickAdd', project_id='2349449389', section_id='183962656', parent_id=None, labels=[], is_completed=True, due='', completed_at='2025-02-23T22:37:56.000000Z', priority=None, created_at=None, url=None, sections_dict=None),\n",
       " Task(id='8100839631', content='[x] Templater', project_id='2349449389', section_id='183962656', parent_id=None, labels=[], is_completed=True, due='', completed_at='2025-02-23T22:37:56.000000Z', priority=None, created_at=None, url=None, sections_dict=None),\n",
       " Task(id='8100839613', content='[x] DB Folders', project_id='2349449389', section_id='183962656', parent_id=None, labels=[], is_completed=True, due='', completed_at='2025-02-23T22:37:56.000000Z', priority=None, created_at=None, url=None, sections_dict=None),\n",
       " Task(id='8100839601', content='[x] Dataview', project_id='2349449389', section_id='183962656', parent_id=None, labels=[], is_completed=True, due='', completed_at='2025-02-23T22:37:56.000000Z', priority=None, created_at=None, url=None, sections_dict=None),\n",
       " Task(id='8100814059', content='[ ] Set Askify integration', project_id='2349449389', section_id='183959614', parent_id=None, labels=[], is_completed=True, due='', completed_at='2025-02-23T22:24:33.000000Z', priority=None, created_at=None, url=None, sections_dict=None),\n",
       " Task(id='8100814041', content='[ ] Set raindrop integration', project_id='2349449389', section_id='183959614', parent_id=None, labels=[], is_completed=True, due='', completed_at='2025-02-23T22:24:32.000000Z', priority=None, created_at=None, url=None, sections_dict=None),\n",
       " Task(id='8100813953', content='Canvas', project_id='2349449389', section_id='183950338', parent_id=None, labels=[], is_completed=True, due='', completed_at='2025-02-23T22:24:29.000000Z', priority=None, created_at=None, url=None, sections_dict=None),\n",
       " Task(id='8100746673', content='[ ] Set todoist integration', project_id='2349449389', section_id='183959614', parent_id=None, labels=[], is_completed=True, due='', completed_at='2025-02-23T21:52:17.000000Z', priority=None, created_at=None, url=None, sections_dict=None),\n",
       " Task(id='8100739110', content='[ ] Home', project_id='2349449389', section_id='183950431', parent_id=None, labels=[], is_completed=True, due='', completed_at='2025-02-23T21:48:31.000000Z', priority=None, created_at=None, url=None, sections_dict=None),\n",
       " Task(id='8100611194', content='[ ] Track Template', project_id='2349449389', section_id='183950431', parent_id=None, labels=[], is_completed=True, due='', completed_at='2025-02-23T20:50:28.000000Z', priority=None, created_at=None, url=None, sections_dict=None),\n",
       " Task(id='8100527803', content='[ ] Project Template', project_id='2349449389', section_id='183950431', parent_id=None, labels=[], is_completed=True, due='', completed_at='2025-02-23T20:13:18.000000Z', priority=None, created_at=None, url=None, sections_dict=None),\n",
       " Task(id='8100527759', content='[ ] Notes Tramplate', project_id='2349449389', section_id='183950431', parent_id=None, labels=[], is_completed=True, due='', completed_at='2025-02-23T20:13:16.000000Z', priority=None, created_at=None, url=None, sections_dict=None),\n",
       " Task(id='8100527702', content='[ ] Task management', project_id='2349449389', section_id='183950431', parent_id=None, labels=[], is_completed=True, due='', completed_at='2025-02-23T20:13:15.000000Z', priority=None, created_at=None, url=None, sections_dict=None),\n",
       " Task(id='8100527524', content='[ ] Projects', project_id='2349449389', section_id='183950431', parent_id=None, labels=[], is_completed=True, due='', completed_at='2025-02-23T20:13:09.000000Z', priority=None, created_at=None, url=None, sections_dict=None),\n",
       " Task(id='8100497189', content='[x] Daily Note', project_id='2349449389', section_id='183950431', parent_id=None, labels=[], is_completed=True, due='', completed_at='2025-02-23T19:59:48.000000Z', priority=None, created_at=None, url=None, sections_dict=None),\n",
       " Task(id='8100497108', content='[x] Propose vault organization and workflow', project_id='2349449389', section_id='183950431', parent_id=None, labels=[], is_completed=True, due='', completed_at='2025-02-23T19:59:46.000000Z', priority=None, created_at=None, url=None, sections_dict=None),\n",
       " Task(id='8100496279', content='[x] ACCESS', project_id='2349449389', section_id='183950338', parent_id=None, labels=[], is_completed=True, due='', completed_at='2025-02-23T19:59:25.000000Z', priority=None, created_at=None, url=None, sections_dict=None),\n",
       " Task(id='8100496259', content='[x] PARA', project_id='2349449389', section_id='183950338', parent_id=None, labels=[], is_completed=True, due='', completed_at='2025-02-23T19:59:24.000000Z', priority=None, created_at=None, url=None, sections_dict=None),\n",
       " Task(id='8100496233', content='[x] GTD', project_id='2349449389', section_id='183950338', parent_id=None, labels=[], is_completed=True, due='', completed_at='2025-02-23T19:59:23.000000Z', priority=None, created_at=None, url=None, sections_dict=None),\n",
       " Task(id='8100496215', content='[x] Zettle in obsidian', project_id='2349449389', section_id='183950338', parent_id=None, labels=[], is_completed=True, due='', completed_at='2025-02-23T19:59:23.000000Z', priority=None, created_at=None, url=None, sections_dict=None)]"
      ]
     },
     "execution_count": 4,
     "metadata": {},
     "output_type": "execute_result"
    }
   ],
   "execution_count": 4
  },
  {
   "metadata": {
    "ExecuteTime": {
     "end_time": "2025-03-09T01:20:59.988891Z",
     "start_time": "2025-03-09T01:20:59.525616Z"
    }
   },
   "cell_type": "code",
   "source": [
    "active_tasks=todoist_app.get_active_tasks(project_id='2349449389')\n",
    "active_tasks"
   ],
   "id": "3cf07cdc5757cc2a",
   "outputs": [
    {
     "data": {
      "text/plain": [
       "[Task(id='8675796902', content='Registro preocupação trabalho (e não trabalho) Processar', project_id='2349449389', section_id=None, parent_id=None, labels=['PKM', 'tdah', '🗒'], is_completed=False, due='', completed_at=None, priority=4, created_at='2024-12-12T23:02:21.575373Z', url='https://app.todoist.com/app/task/8675796902', sections_dict=None),\n",
       " Task(id='8924994174', content='Criar processo de encerramento de Projeto', project_id='2349449389', section_id=None, parent_id=None, labels=[], is_completed=False, due='', completed_at=None, priority=1, created_at='2025-02-27T23:50:58.057995Z', url='https://app.todoist.com/app/task/8924994174', sections_dict=None),\n",
       " Task(id='8925415775', content='Explorar DB Folder', project_id='2349449389', section_id=None, parent_id=None, labels=['PKM'], is_completed=False, due='2025-03-07', completed_at=None, priority=3, created_at='2025-02-28T04:49:50.620577Z', url='https://app.todoist.com/app/task/8925415775', sections_dict=None),\n",
       " Task(id='8944611544', content='Add rotinas', project_id='2349449389', section_id=None, parent_id=None, labels=['PKM'], is_completed=False, due='', completed_at=None, priority=1, created_at='2025-03-06T01:12:13.172352Z', url='https://app.todoist.com/app/task/8944611544', sections_dict=None),\n",
       " Task(id='8946341417', content='flashcards and reviews plan (vocabulary and notes)', project_id='2349449389', section_id=None, parent_id=None, labels=['PKM'], is_completed=False, due='2025-03-06', completed_at=None, priority=3, created_at='2025-03-06T14:05:23.765960Z', url='https://app.todoist.com/app/task/8946341417', sections_dict=None)]"
      ]
     },
     "execution_count": 5,
     "metadata": {},
     "output_type": "execute_result"
    }
   ],
   "execution_count": 5
  },
  {
   "metadata": {
    "ExecuteTime": {
     "end_time": "2025-03-09T01:21:00.064275Z",
     "start_time": "2025-03-09T01:21:00.048461Z"
    }
   },
   "cell_type": "code",
   "source": "todoist_app.export_tasks_to_markdown(sections, active_tasks)",
   "id": "50f53c4f07df283b",
   "outputs": [
    {
     "data": {
      "text/plain": [
       "'# Project\\n\\n- [ ] Registro preocupação trabalho (e não trabalho) Processar ➕ 2024-12-12\\n- [ ] Criar processo de encerramento de Projeto ➕ 2025-02-27\\n- [ ] Explorar DB Folder 📅 2025-03-07 ➕ 2025-02-28\\n- [ ] Add rotinas ➕ 2025-03-06\\n- [ ] flashcards and reviews plan (vocabulary and notes) 📅 2025-03-06 ➕ 2025-03-06\\n## Education\\n## Vault\\n## Integrations\\n## Plugins\\n## Plugins/maybe\\n\\n'"
      ]
     },
     "execution_count": 6,
     "metadata": {},
     "output_type": "execute_result"
    }
   ],
   "execution_count": 6
  },
  {
   "metadata": {},
   "cell_type": "code",
   "outputs": [],
   "execution_count": null,
   "source": "",
   "id": "19fbfce468b9c4c1"
  }
 ],
 "metadata": {
  "kernelspec": {
   "display_name": "Python 3",
   "language": "python",
   "name": "python3"
  },
  "language_info": {
   "codemirror_mode": {
    "name": "ipython",
    "version": 2
   },
   "file_extension": ".py",
   "mimetype": "text/x-python",
   "name": "python",
   "nbconvert_exporter": "python",
   "pygments_lexer": "ipython2",
   "version": "2.7.6"
  }
 },
 "nbformat": 4,
 "nbformat_minor": 5
}
